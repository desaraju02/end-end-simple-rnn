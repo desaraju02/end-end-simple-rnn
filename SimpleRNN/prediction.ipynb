{
 "cells": [
  {
   "cell_type": "code",
   "execution_count": 1,
   "id": "471d2d6a",
   "metadata": {},
   "outputs": [
    {
     "name": "stderr",
     "output_type": "stream",
     "text": [
      "2025-08-03 22:40:54.728493: I tensorflow/core/platform/cpu_feature_guard.cc:210] This TensorFlow binary is optimized to use available CPU instructions in performance-critical operations.\n",
      "To enable the following instructions: AVX2 FMA, in other operations, rebuild TensorFlow with the appropriate compiler flags.\n"
     ]
    }
   ],
   "source": [
    "import numpy as np\n",
    "import pandas as pd\n",
    "import tensorflow as tf\n",
    "from tensorflow.keras.datasets import imdb\n",
    "from tensorflow.keras.models import Sequential\n",
    "from tensorflow.keras.layers import Embedding, SimpleRNN, Dense\n",
    "from tensorflow.keras.preprocessing import sequence\n",
    "from tensorflow.keras.models import load_model"
   ]
  },
  {
   "cell_type": "code",
   "execution_count": 2,
   "id": "b1762950",
   "metadata": {},
   "outputs": [],
   "source": [
    "word_index = imdb.get_word_index()\n",
    "reverse_word_index = { value: key for (key, value) in word_index.items() }"
   ]
  },
  {
   "cell_type": "code",
   "execution_count": 3,
   "id": "9d82f6ea",
   "metadata": {},
   "outputs": [
    {
     "name": "stderr",
     "output_type": "stream",
     "text": [
      "WARNING:absl:Compiled the loaded model, but the compiled metrics have yet to be built. `model.compile_metrics` will be empty until you train or evaluate the model.\n"
     ]
    }
   ],
   "source": [
    "# Load the model\n",
    "model = load_model('simple_rnn_imdb.h5')"
   ]
  },
  {
   "cell_type": "code",
   "execution_count": 4,
   "id": "63891d78",
   "metadata": {},
   "outputs": [],
   "source": [
    "# Step 2: Helper functions\n",
    "# Function to decode the review text\n",
    "def decode_review(text):\n",
    "    return ' '.join([reverse_word_index.get(i - 3, '?') for i in text])\n",
    "\n",
    "\n",
    "# Function to preprocess the review text\n",
    "def preprocess_review(review, maxlen=500):\n",
    "    words = review.lower().split()\n",
    "    encoded_review = [word_index.get(word, 2) + 3 for word in words]  # 2 is the index for OOV\n",
    "    padded_review = sequence.pad_sequences([encoded_review], maxlen=maxlen)\n",
    "    return padded_review"
   ]
  },
  {
   "cell_type": "code",
   "execution_count": 10,
   "id": "239666f2",
   "metadata": {},
   "outputs": [],
   "source": [
    "# Prediction function\n",
    "def predict_sentiment(review):\n",
    "    padded_review = preprocess_review(review)\n",
    "    prediction = model.predict(padded_review)\n",
    "    sentiment = 'Positive' if prediction[0][0] > 0.5 else 'Negative'\n",
    "    return sentiment, prediction[0][0]"
   ]
  },
  {
   "cell_type": "code",
   "execution_count": 11,
   "id": "236d92ec",
   "metadata": {},
   "outputs": [],
   "source": [
    "example_review = \"This movie was fantastic! I loved it.\"\n",
    "example_review2 = \"This movie was terrible. I hated it.\""
   ]
  },
  {
   "cell_type": "code",
   "execution_count": 13,
   "id": "01f32753",
   "metadata": {},
   "outputs": [
    {
     "name": "stdout",
     "output_type": "stream",
     "text": [
      "\u001b[1m1/1\u001b[0m \u001b[32m━━━━━━━━━━━━━━━━━━━━\u001b[0m\u001b[37m\u001b[0m \u001b[1m0s\u001b[0m 59ms/step\n",
      "Review: This movie was fantastic! I loved it.\n",
      "Sentiment: Positive (Score: 0.50)\n"
     ]
    }
   ],
   "source": [
    "sentiment, score = predict_sentiment(example_review) # model.predict(preprocess_review(example_review))[0][0]\n",
    "print(f\"Review: {example_review}\\nSentiment: {sentiment} (Score: {score:.2f})\")"
   ]
  },
  {
   "cell_type": "code",
   "execution_count": 14,
   "id": "31883565",
   "metadata": {},
   "outputs": [
    {
     "name": "stdout",
     "output_type": "stream",
     "text": [
      "\u001b[1m1/1\u001b[0m \u001b[32m━━━━━━━━━━━━━━━━━━━━\u001b[0m\u001b[37m\u001b[0m \u001b[1m0s\u001b[0m 50ms/step\n",
      "Review: This movie was terrible. I hated it.\n",
      "Sentiment: Negative (Score: 0.29)\n"
     ]
    }
   ],
   "source": [
    "sentiment, score = predict_sentiment(example_review2)\n",
    "print(f\"Review: {example_review2}\\nSentiment: {sentiment} (Score: {score:.2f})\")"
   ]
  }
 ],
 "metadata": {
  "kernelspec": {
   "display_name": "Python 3",
   "language": "python",
   "name": "python3"
  },
  "language_info": {
   "codemirror_mode": {
    "name": "ipython",
    "version": 3
   },
   "file_extension": ".py",
   "mimetype": "text/x-python",
   "name": "python",
   "nbconvert_exporter": "python",
   "pygments_lexer": "ipython3",
   "version": "3.11.11"
  }
 },
 "nbformat": 4,
 "nbformat_minor": 5
}
